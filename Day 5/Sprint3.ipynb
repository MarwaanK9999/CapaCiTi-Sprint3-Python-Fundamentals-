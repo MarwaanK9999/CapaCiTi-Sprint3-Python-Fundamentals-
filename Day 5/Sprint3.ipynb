{
 "cells": [
  {
   "cell_type": "code",
   "execution_count": 24,
   "id": "c730a065",
   "metadata": {},
   "outputs": [
    {
     "name": "stdout",
     "output_type": "stream",
     "text": [
      "MySQL Database connection successful\n",
      "Query successful\n",
      "Query successful\n",
      "['Simba', 'Lays', 'Coke', 'Fanta', 'Cadbury', 'Tex', 'Pepper Steak', 'Chicken', 'Apple', 'Orange', 'Vanilla', 'Chocolate', 'Spinach', 'Cabbage']\n",
      "[12, 8, 10, 6, 4, 8, 16, 18, 10, 12, 10, 16, 10, 16]\n"
     ]
    },
    {
     "data": {
      "image/png": "[encoded data removed]",
      "text/plain": [
       "<Figure size 1080x360 with 1 Axes>"
      ]
     },
     "metadata": {
      "needs_background": "light"
     },
     "output_type": "display_data"
    }
   ],
   "source": [
    "import mysql.connector\n",
    "from mysql.connector import Error\n",
    "import matplotlib.pyplot as plt\n",
    "\n",
    "def create_db_connection(host_name, user_name, user_password,db_name):\n",
    "    connection = None\n",
    "    try:\n",
    "        connection = mysql.connector.connect(\n",
    "            host=host_name,\n",
    "            user=user_name,\n",
    "            passwd=user_password,\n",
    "            database=db_name\n",
    "        )\n",
    "        print(\"MySQL Database connection successful\")\n",
    "    except Error as err:\n",
    "        print(f\"Error: '{err}'\")\n",
    "    return connection\n",
    "\n",
    "def execute_get_query(connection, query):\n",
    "    cursor = connection.cursor()\n",
    "    try:\n",
    "        cursor.execute(query)\n",
    "        records = cursor.fetchall()\n",
    "        print(\"Query successful\")\n",
    "        return records\n",
    "    except Error as err:\n",
    "        print(f\"Error: '{err}'\")\n",
    " \n",
    "connection = create_db_connection(\"localhost\", \"marwaan\", \"Marwaank17\",\"items\")\n",
    "\n",
    "arrNames = []\n",
    "arrAmounts = []\n",
    "\n",
    "query1 = \"\"\"\n",
    "        SELECT Name\n",
    "        FROM item_details\n",
    "        \"\"\"\n",
    "x = execute_get_query(connection, query1)\n",
    "for i in x:\n",
    "    arrNames.append(i[0])\n",
    "\n",
    "query1 = \"\"\"\n",
    "        SELECT Amount\n",
    "        FROM item_details\n",
    "        \"\"\"\n",
    "\n",
    "y = execute_get_query(connection, query1)\n",
    "for i in y:\n",
    "    arrAmounts.append(i[0])\n",
    "print(arrNames)\n",
    "print(arrAmounts)\n",
    "\n",
    "plt.figure(figsize=(15,5))\n",
    "plt.title(\"Amount of items recorded\")\n",
    "plt.xlabel(\"Items\")\n",
    "plt.ylabel(\"Amount\")\n",
    "plt.scatter(arrNames, arrAmounts)\n",
    "plt.show()"
   ]
  },
  {
   "cell_type": "code",
   "execution_count": null,
   "id": "066dc9e0",
   "metadata": {},
   "outputs": [],
   "source": []
  },
  {
   "cell_type": "code",
   "execution_count": null,
   "id": "0d2265d5",
   "metadata": {},
   "outputs": [],
   "source": []
  }
 ],
 "metadata": {
  "kernelspec": {
   "display_name": "Python 3",
   "language": "python",
   "name": "python3"
  },
  "language_info": {
   "codemirror_mode": {
    "name": "ipython",
    "version": 3
   },
   "file_extension": ".py",
   "mimetype": "text/x-python",
   "name": "python",
   "nbconvert_exporter": "python",
   "pygments_lexer": "ipython3",
   "version": "3.8.8"
  }
 },
 "nbformat": 4,
 "nbformat_minor": 5
}
